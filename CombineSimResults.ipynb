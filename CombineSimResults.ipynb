{
 "cells": [
  {
   "cell_type": "code",
   "execution_count": 9,
   "metadata": {},
   "outputs": [],
   "source": [
    "import os\n",
    "import pandas as pd\n",
    "base_dir = \"results\"\n",
    "base_frame_list = []\n",
    "\n",
    "# load the data frames\n",
    "for file in os.listdir(base_dir):\n",
    "    if file[-3:] != \"csv\":\n",
    "        continue\n",
    "        \n",
    "    base_frame_list += [pd.read_csv(os.path.join(base_dir, file))]\n",
    "    \n",
    "# combine the data frames\n",
    "all_frames = base_frame_list[0]\n",
    "for i in range(1, len(base_frame_list)):\n",
    "    all_frames = all_frames.append(base_frame_list[i])\n",
    "    \n",
    "# write to csv\n",
    "all_frames = all_frames.append(base_frame_list[i])"
   ]
  },
  {
   "cell_type": "code",
   "execution_count": null,
   "metadata": {},
   "outputs": [],
   "source": []
  }
 ],
 "metadata": {
  "kernelspec": {
   "display_name": "Python 3",
   "language": "python",
   "name": "python3"
  },
  "language_info": {
   "codemirror_mode": {
    "name": "ipython",
    "version": 3
   },
   "file_extension": ".py",
   "mimetype": "text/x-python",
   "name": "python",
   "nbconvert_exporter": "python",
   "pygments_lexer": "ipython3",
   "version": "3.6.8"
  }
 },
 "nbformat": 4,
 "nbformat_minor": 2
}
